{
 "cells": [
  {
   "cell_type": "markdown",
   "metadata": {
    "colab_type": "text",
    "id": "view-in-github"
   },
   "source": [
    "<a href=\"https://colab.research.google.com/github/nicolasrondan/cv-um-2021/blob/main/practico-0/Practico_0_Introduccion_a_Python.ipynb\" target=\"_parent\"><img src=\"https://colab.research.google.com/assets/colab-badge.svg\" alt=\"Open In Colab\"/></a>"
   ]
  },
  {
   "cell_type": "markdown",
   "metadata": {
    "id": "mSbmhOom5ud3"
   },
   "source": [
    "# Introducción\n",
    "\n",
    "Durante el curso de computer vision vamos a trabajar con el lenguaje de programación Python. Para ello en este notebook introductorio vamos a aprender algunos conceptos básicos sobre la sintaxis de Python y en particular conceptos que nos sirvan para poder desarrollar los ejercicios del curso.\n",
    "\n",
    "Para todos los prácticos vamos a usar el entorno de Google Colab sumado a espacio de almacenamiento en Google Drive. Si quieren investigar un poco más al respecto de Google Colab pueden acceder a los siguientes tutoriales:\n",
    "\n",
    "> * https://colab.research.google.com/notebooks/intro.ipynb#scrollTo=-Rh3-Vt9Nev9 \n",
    "\n",
    "\n",
    "No es posible hacer un curso completo de python en un único notebook. A continuación van a encontrar algunos otros recursos útiles que pueden consultar para continuar con el aprendizaje de Python. Los pueden consultar a medida que avance el curso y se necesite realizar operaciones más avanzadas.\n",
    "\n",
    "\n",
    "> *   https://websitesetup.org/python-cheat-sheet/\n",
    "*   https://thepythonguru.com/\n",
    "*   https://docs.python.org/3/tutorial/\n",
    "\n",
    "\n",
    "Por otro lado se recomienda la siguiente lectura al respecto de porque usar Python para proyectos de Machine learning:\n",
    "\n",
    "> * https://mlpr.inf.ed.ac.uk/2020/notes/w0e_programming.html\n",
    "\n",
    "\n",
    "\n",
    "\\* *No es posible definir todos los elementos de Python en un solo notebook por lo que a lo largo del curso van a tener que investigar como implementar distintos algoritmos y funciones en Python. Con este práctico introductorio se pretende generar una base de conocimiento para que puedan entender todos los ejercicios del curso.*"
   ]
  },
  {
   "cell_type": "markdown",
   "metadata": {
    "id": "6e4lIypHuZIo"
   },
   "source": [
    "# Introducción a Python"
   ]
  },
  {
   "cell_type": "markdown",
   "metadata": {
    "id": "aKKWUxQ0udwy"
   },
   "source": [
    "##Declarar de Variables\n",
    "\n",
    "Para definir una variable en python simplemente es necesario definir el nombre de la variable y el valor. No es necesario definir el tipo de datos de la variable. \n",
    "\n",
    "Comencemos por definir dos variables **x** e **y**:"
   ]
  },
  {
   "cell_type": "code",
   "execution_count": null,
   "metadata": {
    "id": "BVWWXvu0udYB"
   },
   "outputs": [],
   "source": [
    "x = 1\n",
    "y = 2"
   ]
  },
  {
   "cell_type": "markdown",
   "metadata": {
    "id": "Es3td7QrvVrB"
   },
   "source": [
    "Para explorar el valor de las variables podemos usar la función ***print()***"
   ]
  },
  {
   "cell_type": "code",
   "execution_count": null,
   "metadata": {
    "colab": {
     "base_uri": "https://localhost:8080/"
    },
    "id": "LoDXastdvh5B",
    "outputId": "35bbfb7e-48da-4674-b35f-d39d3757ae33"
   },
   "outputs": [],
   "source": [
    "print(x)\n",
    "print(y)"
   ]
  },
  {
   "cell_type": "markdown",
   "metadata": {
    "id": "8Ne2sZ8gv1Ho"
   },
   "source": [
    "## Python lenguaje tipado\n",
    "\n",
    "Si bien no es necesario definir el tipo de una variable en python, el interprete de python mantiene referencias estrictas del tipo de cada variable.\n",
    "\n",
    "Vamos a investigar que pasa si cobinamos variables de distintos tipos."
   ]
  },
  {
   "cell_type": "code",
   "execution_count": null,
   "metadata": {
    "id": "-wikxjFnv0te"
   },
   "outputs": [],
   "source": [
    "x = 1  # int\n",
    "y = '0' #string\n",
    "z = 1.45 # float"
   ]
  },
  {
   "cell_type": "markdown",
   "metadata": {
    "id": "rrQQrZWixGX_"
   },
   "source": [
    "Al sumar x e y vamos obtener un error sobre el tipo de datos:\n"
   ]
  },
  {
   "cell_type": "code",
   "execution_count": null,
   "metadata": {
    "colab": {
     "base_uri": "https://localhost:8080/",
     "height": 164
    },
    "id": "dEzjZ60BxCZz",
    "outputId": "f1f9095f-7797-413b-891d-dd0c7319bb33"
   },
   "outputs": [],
   "source": [
    "x + y"
   ]
  },
  {
   "cell_type": "code",
   "execution_count": null,
   "metadata": {
    "colab": {
     "base_uri": "https://localhost:8080/"
    },
    "id": "bMix52LmxFG4",
    "outputId": "1c424a22-584e-4b3a-8f23-94be30685d40"
   },
   "outputs": [],
   "source": [
    "z + x"
   ]
  },
  {
   "cell_type": "markdown",
   "metadata": {
    "id": "wV19B-uEx8Bw"
   },
   "source": [
    "Podemos hacer cast del string a int y viceversa. Vamos a obtener resultados distintos ya que el operador '+' aplica distintas operaciones sobre distintos tipos de datos.\n"
   ]
  },
  {
   "cell_type": "code",
   "execution_count": null,
   "metadata": {
    "colab": {
     "base_uri": "https://localhost:8080/"
    },
    "id": "aqGXWQTBxq7r",
    "outputId": "d18337af-5409-4b3f-d89d-ae8faebe38f7"
   },
   "outputs": [],
   "source": [
    "print(str(x) + y)\n",
    "print(x + int(y))"
   ]
  },
  {
   "cell_type": "markdown",
   "metadata": {
    "id": "VGXlF30K1nYj"
   },
   "source": [
    "## Tipos de Datos\n",
    "\n",
    "Python por defecto tiene los siguentes tipos de datos definidos:\n",
    "\n",
    "<table class=\"w3-table\" style=\"width:1000px heigth:400px\">\n",
    "  <tr>\n",
    "    <td style=\"width:160px;\">Text Type:</td>\n",
    "    <td><code class=\"w3-codespan\">str</code></td>\n",
    "  </tr>\n",
    "  <tr>\n",
    "    <td>Numeric Types:</td>\n",
    "    <td><code class=\"w3-codespan\">int</code>, <code class=\"w3-codespan\">float</code>,\n",
    "    <code class=\"w3-codespan\">complex</code></td>\n",
    "  </tr>\n",
    "  <tr>\n",
    "    <td>Sequence Types:</td>\n",
    "    <td><code class=\"w3-codespan\">list</code>, <code class=\"w3-codespan\">tuple</code>, \n",
    "    <code class=\"w3-codespan\">range</code></td>\n",
    "  </tr>\n",
    "  <tr>\n",
    "    <td>Mapping Type:</td>\n",
    "    <td><code class=\"w3-codespan\">dict</code></td>\n",
    "  </tr>\n",
    "  <tr>\n",
    "    <td>Set Types:</td>\n",
    "    <td><code class=\"w3-codespan\">set</code>, <code class=\"w3-codespan\">frozenset</code></td>\n",
    "  </tr>\n",
    "  <tr>\n",
    "    <td>Boolean Type:</td>\n",
    "    <td><code class=\"w3-codespan\">bool</code></td>\n",
    "  </tr>\n",
    "  <tr>\n",
    "    <td>Binary Types:</td>\n",
    "    <td><code class=\"w3-codespan\">bytes</code>, <code class=\"w3-codespan\">bytearray</code>, \n",
    "    <code class=\"w3-codespan\">memoryview</code></td>\n",
    "  </tr>\n",
    "</table>\n",
    "\n"
   ]
  },
  {
   "cell_type": "markdown",
   "metadata": {
    "id": "AY8RQg3RxVMQ"
   },
   "source": [
    "Para investigar el tipo de datos vamos a utilizar la funcion **type()**\n",
    "\n",
    "Por otro lado podemos utilizar la función ***format()*** aplicada a un string para imprimir texto formateado junto al valor de una variable."
   ]
  },
  {
   "cell_type": "code",
   "execution_count": null,
   "metadata": {
    "colab": {
     "base_uri": "https://localhost:8080/"
    },
    "id": "gia6l_3eyWDg",
    "outputId": "b6f4cfa0-75f8-4f85-9a3b-8e7090f04297"
   },
   "outputs": [],
   "source": [
    "print('El tipo de datos de la variable x es {}'.format(type(x)))"
   ]
  },
  {
   "cell_type": "markdown",
   "metadata": {
    "id": "2mCGLojsyitC"
   },
   "source": [
    "Imprimir el tipo de datos para las variables restantes: \n"
   ]
  },
  {
   "cell_type": "code",
   "execution_count": null,
   "metadata": {
    "id": "LPrbXAqVyvTg"
   },
   "outputs": [],
   "source": [
    "## Your Code"
   ]
  },
  {
   "cell_type": "markdown",
   "metadata": {
    "id": "lGVfMvH6ywC3"
   },
   "source": [
    "## Palabras reservadas\n",
    "Python 3.6 tiene un conjunto de 33 palabras reservadas que no podemos usar para definir nombres de variables ni de funciones podemos ver las palabras reservadas ejecutando **help(\"keywords\")** en la siguiente celda"
   ]
  },
  {
   "cell_type": "code",
   "execution_count": null,
   "metadata": {
    "colab": {
     "base_uri": "https://localhost:8080/"
    },
    "id": "hCGu0mi51VkB",
    "outputId": "96a0d9e3-8102-4c4d-d49e-753595686a33"
   },
   "outputs": [],
   "source": [
    "help(\"keywords\") "
   ]
  },
  {
   "cell_type": "markdown",
   "metadata": {
    "id": "X3l4U1NjrDWF"
   },
   "source": [
    "## Listas, tuplas y Diccionarios\n",
    "\n",
    "En python existen varios objectos para guardar colleciones de datos. En esta secciones vamos a estudiar las Listas tuplas y Dictionarios"
   ]
  },
  {
   "cell_type": "markdown",
   "metadata": {
    "id": "HHnvs6YkrpRU"
   },
   "source": [
    "### Listas\n",
    "\n",
    "Una lista se utiliza para guardar multiples objetos en una sola variable. En Python las listas pueden contener distintos tipos de datos y se defienen utilizando los \"corchetes rectos\". Las listas son ordenadas,  mutables y permiten objectos duplicados.\n",
    "\n",
    "[Python Lists Reference](https://docs.python.org/3/tutorial/datastructures.html)\n",
    "\n",
    "Veamos algunos ejemplos:\n"
   ]
  },
  {
   "cell_type": "code",
   "execution_count": null,
   "metadata": {
    "id": "_QRaqF1RuIsw"
   },
   "outputs": [],
   "source": [
    "list_of_ints = [1,2,3,4,5,6,7,8,9,10]\n",
    "list_of_strings = ['one','two','three','four','five']\n",
    "list_of_mixed_types = [1,'two',3,'four','five']"
   ]
  },
  {
   "cell_type": "markdown",
   "metadata": {
    "id": "Hzo3F0pRuErA"
   },
   "source": [
    "### Tuplas\n",
    "\n",
    "Una tupla también se utiliza para guardar multiples objetos en una sola variable. Las tuplas tienen las mismas propiedas que las lista al ser ordenas y permitir objecto duplicados pero no son mutables. En python una tupla se puede definir utilizando parentesís \"()\".\n",
    "\n",
    "[Python Tuples Reference](https://docs.python.org/3/tutorial/datastructures.html#tuples-and-sequences)\n",
    "\n",
    "Veamos algunos ejemplos:\n",
    "\n",
    "\n"
   ]
  },
  {
   "cell_type": "code",
   "execution_count": null,
   "metadata": {
    "id": "4CrMY-8txG7Q"
   },
   "outputs": [],
   "source": [
    "tuple_of_ints = (1,2,3,4,5)\n",
    "tuple_of_strings = ('one','two','three','four','five')\n",
    "tuple_of_myxed_types = (1,'two',3,'four','five')"
   ]
  },
  {
   "cell_type": "markdown",
   "metadata": {
    "id": "4mWE7ZKjxnlC"
   },
   "source": [
    "### Diccionarios\n",
    "\n",
    "En Python los diccionarios son objetos que nos permiten almacenar datos en pares de *clave:valor* (*key:value*). Los diccionarios no están ordenados, son mutables y no permiten objectos duplicados. Para definir un diccionario en python se a utilizan las llaves \"{}\".\n",
    "\n",
    "[Python Dictionaries Reference](https://docs.python.org/3/tutorial/datastructures.html#dictionaries)\n",
    "\n",
    "Veamos algunos ejemplos:"
   ]
  },
  {
   "cell_type": "code",
   "execution_count": null,
   "metadata": {
    "id": "w7yxgJ_5zpL_"
   },
   "outputs": [],
   "source": [
    "simple_dict = {'first':1,\n",
    "               'second':2,\n",
    "               'third':'third_object'}"
   ]
  },
  {
   "cell_type": "markdown",
   "metadata": {
    "id": "IR4wIA4l1_xM"
   },
   "source": [
    "Para acceder a los valores de un diccionario debemos utilizar la clave de cada elemento:\n"
   ]
  },
  {
   "cell_type": "code",
   "execution_count": null,
   "metadata": {
    "colab": {
     "base_uri": "https://localhost:8080/"
    },
    "id": "ZcXowFIR3Mz3",
    "outputId": "f96644a8-e132-40fb-fb88-ef650333ceb3"
   },
   "outputs": [],
   "source": [
    "print(simple_dict['second'])"
   ]
  },
  {
   "cell_type": "markdown",
   "metadata": {
    "id": "_HTseoXe0_IR"
   },
   "source": [
    "## Indexado y \"*slicing*\"\n",
    "\n",
    "Para poder acceder a los datos de las Listas, Tuplas vamos a utilizar los operadores de indexado y \"*slicing*\". Para acceder a un valor de una lista necesitamos acceder al indice de dicho valor. En python los indices de listas y arrays comienzan en el número \"0\". \n",
    "\n",
    "Tal cual se ve en la siguiente imagen. También es posible acceder a los elementos de atras hacia adelante.\n",
    "\n",
    "\n",
    "\n",
    "```\n",
    "  0    1    2    3    4    5    6    7    8\n",
    "  ↓    ↓    ↓    ↓    ↓    ↓    ↓    ↓    ↓\n",
    "['a', 'b', 'c', 'd', 'e', 'f', 'g', 'h', 'i']\n",
    "  ↑    ↑    ↑    ↑    ↑    ↑    ↑    ↑    ↑\n",
    " -9   -8   -7   -6   -5   -4   -3   -2   -1\n",
    " ```\n",
    "\n"
   ]
  },
  {
   "cell_type": "markdown",
   "metadata": {
    "id": "mJrVcf3z4uzw"
   },
   "source": [
    "### Indexado\n",
    "Definamos una lista y accedamos a sus valores:"
   ]
  },
  {
   "cell_type": "code",
   "execution_count": null,
   "metadata": {
    "id": "TDtB_dVy43nZ"
   },
   "outputs": [],
   "source": [
    "alphabet_list = ['a', 'b', 'c', 'd', 'e', 'f', 'g', 'h', 'i']"
   ]
  },
  {
   "cell_type": "code",
   "execution_count": null,
   "metadata": {
    "colab": {
     "base_uri": "https://localhost:8080/"
    },
    "id": "hYp2TEdN49Wa",
    "outputId": "cb12221b-7f5d-4f6b-b855-ea6f92ab193c"
   },
   "outputs": [],
   "source": [
    "print(alphabet_list[0])"
   ]
  },
  {
   "cell_type": "code",
   "execution_count": null,
   "metadata": {
    "colab": {
     "base_uri": "https://localhost:8080/"
    },
    "id": "22zlUKhO5Bm6",
    "outputId": "71f59f86-56f3-4ce1-87b1-5ba58b547064"
   },
   "outputs": [],
   "source": [
    "print(alphabet_list[5])"
   ]
  },
  {
   "cell_type": "code",
   "execution_count": null,
   "metadata": {
    "colab": {
     "base_uri": "https://localhost:8080/"
    },
    "id": "FA4KreCi5DLj",
    "outputId": "43ce78c8-6248-4167-ee89-d76ed52dbbca"
   },
   "outputs": [],
   "source": [
    "print(alphabet_list[-1])"
   ]
  },
  {
   "cell_type": "markdown",
   "metadata": {
    "id": "eLrNcGz-5Gtb"
   },
   "source": [
    "### Slicing\n",
    "\n",
    "Es posible acceder a una sección de una lista usando el operador de slicing. \n",
    "\n",
    "```\n",
    "my_list[start:stop]\n",
    "```\n",
    "\n",
    "Veamos algunos ejemplos:\n"
   ]
  },
  {
   "cell_type": "code",
   "execution_count": null,
   "metadata": {
    "colab": {
     "base_uri": "https://localhost:8080/"
    },
    "id": "f3Xwp0e15J_L",
    "outputId": "f397a997-eba2-42e0-983a-258fe2a0c28a"
   },
   "outputs": [],
   "source": [
    "print(alphabet_list[0:3])"
   ]
  },
  {
   "cell_type": "code",
   "execution_count": null,
   "metadata": {
    "colab": {
     "base_uri": "https://localhost:8080/"
    },
    "id": "LrLoEtPp5YJq",
    "outputId": "1f03b65b-ffe1-4b96-e3cd-dbc9b2bef834"
   },
   "outputs": [],
   "source": [
    "print(alphabet_list[5:-1])"
   ]
  },
  {
   "cell_type": "code",
   "execution_count": null,
   "metadata": {
    "colab": {
     "base_uri": "https://localhost:8080/"
    },
    "id": "oqnp24Rp5bQ4",
    "outputId": "7c27b417-9b4d-4269-fab2-bf76e66b307a"
   },
   "outputs": [],
   "source": [
    "print(alphabet_list[5:])"
   ]
  },
  {
   "cell_type": "markdown",
   "metadata": {
    "id": "UwHxgEVBwZMj"
   },
   "source": [
    "### Invertir el orden"
   ]
  },
  {
   "cell_type": "code",
   "execution_count": null,
   "metadata": {
    "colab": {
     "base_uri": "https://localhost:8080/"
    },
    "id": "qYNfe856wnLI",
    "outputId": "95e0d45d-acae-4fb9-a98a-6f570510fea9"
   },
   "outputs": [],
   "source": [
    "print(alphabet_list[::-1])"
   ]
  },
  {
   "cell_type": "markdown",
   "metadata": {
    "id": "iohThOLoxXUo"
   },
   "source": [
    "## Bloques de Código\n",
    "Para poder comenzar a trabajar con loops y funciones en python es necesario saber como se define un bloque de código en python. En lenguajes de programación más clásicos los bloques de código estan defindidos por llaves \"{}\" y todo el código que se encuentre dentro de las llaves corresponde al mismo bloque. En python sin embargo, los bloques de código están delimitados por la indentación que se use. \n",
    "\n",
    "Un bloque comienza con la primera linea indentada y termina con la primera linea siguiente sin indentar. El nivel de indentación (cantidad de espacios o tabs) no está definido estrictamente, pero tiene que ser consistente a lo largo del bloque. \n",
    "\n",
    "En general hay estandares de código como [PEP8](https://www.python.org/dev/peps/pep-0008/) que utilizan la indentación con 4 espacios.\n",
    "\n",
    "\n",
    "\n",
    "```\n",
    "# Ejemplo de un bloque de código\n",
    "\n",
    "for element in list_object:\n",
    "    print(element)\n",
    "```\n",
    "\n"
   ]
  },
  {
   "cell_type": "markdown",
   "metadata": {
    "id": "4RRH9zA74me8"
   },
   "source": [
    "## Loops e Iterables\n",
    "\n",
    "Para poder definir un loop **for** en python vamos a tener que hacer uso de un objecto iterable. \n",
    "\n",
    "Ejemplos de objectos iterables son:\n",
    "\n",
    "* Lists\n",
    "* Arrays\n",
    "* Dictionaries\n",
    "* Sets\n",
    "\n",
    "\n",
    "Vamos a ver algunos ejemplos de como definir loops en **for** en python.\n",
    "\n",
    "Por más información se puede visitar el siguiente link:\n",
    "\n",
    "[For Loops Python](https://www.w3schools.com/python/python_for_loops.asp)"
   ]
  },
  {
   "cell_type": "markdown",
   "metadata": {
    "id": "tMINY2wG5iQ3"
   },
   "source": [
    "### Iterando sobre una lista:\n",
    "\n",
    "Es posible iterar sobre una lista directamente sobre los elemntos de la misma de la siguiente forma:"
   ]
  },
  {
   "cell_type": "code",
   "execution_count": null,
   "metadata": {
    "colab": {
     "base_uri": "https://localhost:8080/"
    },
    "id": "qcD5vaCJ69LI",
    "outputId": "b9c49388-d4a7-48fc-c02b-ae951d3e243c"
   },
   "outputs": [],
   "source": [
    "for item in alphabet_list:\n",
    "  print(item)"
   ]
  },
  {
   "cell_type": "markdown",
   "metadata": {
    "id": "Jx3gA29nqOzg"
   },
   "source": [
    "### Usando la función range:\n",
    "Es posible definir un rango de valores enteros para iterar utilizando la el objeto *range* en python 3.\n",
    "\n",
    "[Range Object Reference](https://docs.python.org/3/library/stdtypes.html#range)\n",
    "\n"
   ]
  },
  {
   "cell_type": "code",
   "execution_count": null,
   "metadata": {
    "colab": {
     "base_uri": "https://localhost:8080/"
    },
    "id": "KED4y92AqVyf",
    "outputId": "6bf38d31-6e56-4357-ae5f-c9ed56db35ef"
   },
   "outputs": [],
   "source": [
    "for i in range(0,10):\n",
    "  print(i)"
   ]
  },
  {
   "cell_type": "markdown",
   "metadata": {
    "id": "he7Z8RaS3k14"
   },
   "source": [
    "### Iterando sobre un dictionary:"
   ]
  },
  {
   "cell_type": "code",
   "execution_count": null,
   "metadata": {
    "colab": {
     "base_uri": "https://localhost:8080/"
    },
    "id": "yJNHlQoa6feE",
    "outputId": "123ba783-18ec-4f05-bcd8-e2cd6b7e64c3"
   },
   "outputs": [],
   "source": [
    "simple_dict = {'first':1,\n",
    "               'second':2,\n",
    "               'third':'third_object'}\n",
    "\n",
    "for key, value in simple_dict.items():\n",
    "    print(f'{key}  -> {value}')"
   ]
  },
  {
   "cell_type": "markdown",
   "metadata": {
    "id": "czjYm12UMTeg"
   },
   "source": [
    "## Asignar Valores\n",
    "\n",
    "El Python el operador “=” se usa para asignar valores. Cuando tenemos el nombre de una variable del lado derecho de la asignacion el funcionamiento es el siguiente. Python le adjunta el nombre del lado izquierdo al objeto del lado derecho de la ecuacion. Veamos el comportamiento en el siguiente bloque:\n",
    "\n"
   ]
  },
  {
   "cell_type": "code",
   "execution_count": null,
   "metadata": {
    "colab": {
     "base_uri": "https://localhost:8080/"
    },
    "id": "gw6-ABGUNoII",
    "outputId": "bfc762dd-ab83-4f9d-f926-6894d47ef659"
   },
   "outputs": [],
   "source": [
    "A = [1,2,3,4]\n",
    "B = A\n",
    "print('El valor de A antes de Modificar B {}'.format(A))\n",
    "B[2] = 25\n",
    "print('El valor de A luego de Modificar B {}'.format(A))\n"
   ]
  },
  {
   "cell_type": "markdown",
   "metadata": {
    "id": "qs5F4aMDOB_o"
   },
   "source": [
    "Si queremos evitar este comportamiento debemos utilizar la función copy:"
   ]
  },
  {
   "cell_type": "code",
   "execution_count": null,
   "metadata": {
    "colab": {
     "base_uri": "https://localhost:8080/"
    },
    "id": "lTujzjPsOQ_i",
    "outputId": "3177ae0d-63de-43c2-c043-872a3a93fee7"
   },
   "outputs": [],
   "source": [
    "A = [1,2,3,4]\n",
    "B = A.copy()\n",
    "print('El valor de A antes de Modificar B {}'.format(A))\n",
    "B[2] = 25\n",
    "print('El valor de A luego de Modificar B {}'.format(A))\n",
    "print('El valor de B luego de Modificar B {}'.format(B))\n"
   ]
  },
  {
   "cell_type": "markdown",
   "metadata": {
    "id": "Ha1H7cHNOaZC"
   },
   "source": [
    "Cabe destacar que en este caso se crea un objeto nuevo (una copia del objecto A) al utilizar la función copy y no se hace referencia al objeto A previamente definido."
   ]
  },
  {
   "cell_type": "markdown",
   "metadata": {
    "id": "I8wdmp-I4r_b"
   },
   "source": [
    "## Definir funciones:\n",
    "\n",
    "Para definir funciones necesitamos definir un bloque de código de la siguiente manera: \n",
    "\n",
    "\n",
    "\n",
    "```\n",
    "def print_value(value):\n",
    "    print(value)   \n",
    "      \n",
    "```\n",
    "\n",
    "En python los parametros de funciones se pasan por referencia, por lo que no es aconsejable modificar los parametros que entran a una función directamente. Recordad también que en python no hay una referencia explicita sobre el tipo de datos que se pasa en una variable pero el interprete de python mantiene información sobre el tipo de datos. Por lo que hay que tener claro que tipo de dato va a recibir una función. \n",
    "\n",
    "*(A partir de Python 3.5 es posibe utilizar [type hints](https://docs.python.org/3/library/typing.html) al definir funciones)*\n",
    "\n",
    "\n"
   ]
  },
  {
   "cell_type": "markdown",
   "metadata": {
    "id": "w_fKTmWP4xNT"
   },
   "source": [
    "### Funciones con valores por defecto:\n",
    "\n",
    "En Python es posible definir funciones que tengan atributos con valores por defecto. Veamos como se hace esto:"
   ]
  },
  {
   "cell_type": "code",
   "execution_count": null,
   "metadata": {
    "id": "d19EmleHAk6-"
   },
   "outputs": [],
   "source": [
    "def print_value(value='Nothing'):\n",
    "    print(value)"
   ]
  },
  {
   "cell_type": "code",
   "execution_count": null,
   "metadata": {
    "colab": {
     "base_uri": "https://localhost:8080/"
    },
    "id": "uVdmxp27AuS-",
    "outputId": "928c1280-4078-4a8d-8644-130c59194bb7"
   },
   "outputs": [],
   "source": [
    "print_value('Something')"
   ]
  },
  {
   "cell_type": "code",
   "execution_count": null,
   "metadata": {
    "colab": {
     "base_uri": "https://localhost:8080/"
    },
    "id": "GSZI4UPLAzs9",
    "outputId": "f0ff341b-865b-43dd-ecab-0c2a3d2a9259"
   },
   "outputs": [],
   "source": [
    "print_value()"
   ]
  },
  {
   "cell_type": "markdown",
   "metadata": {
    "id": "bWxWPZFm3cYy"
   },
   "source": [
    "#Ejercicios\n",
    "\n",
    "Hasta ahora hemos visto definiciones de como utilizar Python. Ahora vamos a plantear algunos ejericios, para poder aplicar estos conceptos.\n"
   ]
  },
  {
   "cell_type": "markdown",
   "metadata": {
    "id": "Roqd8RfD4l6D"
   },
   "source": [
    "### **1.1 Funciones**"
   ]
  },
  {
   "cell_type": "markdown",
   "metadata": {
    "id": "WTWkHe6XBm2D"
   },
   "source": [
    "#### 1.1.1\n",
    "Definir una función que reciba dos listas de elementos enteros y devuelva una nueva lista con la suma de los elementos de las listas en cada posición:\n",
    "\n",
    "\n",
    "\n",
    "```\n",
    "def sum_lists(list_a, list_b):\n",
    "    sum_list = []\n",
    "    # Your Code\n",
    "    return sum_list\n",
    "```\n"
   ]
  },
  {
   "cell_type": "code",
   "execution_count": null,
   "metadata": {
    "id": "_HamLzZJCsec"
   },
   "outputs": [],
   "source": []
  },
  {
   "cell_type": "markdown",
   "metadata": {
    "id": "Jr_tLOd-CtJS"
   },
   "source": [
    "#### 1.1.2\n",
    "Definir una función que reciba dos listas de elementos enteros y devuelva la norma L2 de la diferencia entre los mismos.\n",
    "\n",
    "\n",
    "```\n",
    "def squared_error(list_a, list_b):\n",
    "    squared_error_value = 0\n",
    "    # Your Code\n",
    "    return squared_error_value\n",
    "\n",
    "```\n",
    "\n",
    "\n"
   ]
  },
  {
   "cell_type": "markdown",
   "metadata": {
    "id": "FIl063uCIIfL"
   },
   "source": [
    "### 1.2 Numpy \n",
    "A lo largo del curso vamos a utilizar numpy para definir vecotores y matrices. Trabajemos sobre la siguiente matriz:\n"
   ]
  },
  {
   "cell_type": "code",
   "execution_count": null,
   "metadata": {
    "id": "eC9kYRYyF7xI"
   },
   "outputs": [],
   "source": [
    "import numpy as np"
   ]
  },
  {
   "cell_type": "code",
   "execution_count": null,
   "metadata": {
    "colab": {
     "base_uri": "https://localhost:8080/"
    },
    "id": "Y3vuT1KDF0pX",
    "outputId": "dab2d712-d67d-4947-db90-026a50d71577"
   },
   "outputs": [],
   "source": [
    "matrix = np.random.randint(10,size=(5,5))\n",
    "print(matrix)"
   ]
  },
  {
   "cell_type": "markdown",
   "metadata": {
    "id": "2qjaYUPYAQuO"
   },
   "source": [
    "#### 1.2.1 \n",
    "Usar el operador de indexado y slicing para imrprimir las filas de la matriz individualmente"
   ]
  },
  {
   "cell_type": "code",
   "execution_count": null,
   "metadata": {
    "id": "aeZmfYBNAfnb"
   },
   "outputs": [],
   "source": [
    "#### Your code"
   ]
  },
  {
   "cell_type": "markdown",
   "metadata": {
    "id": "RpuBWawMAgFr"
   },
   "source": [
    "#### 1.2.2\n",
    "Usar los operadores de indexado y slicing para imrprimir las columnas de la matriz individualmente"
   ]
  },
  {
   "cell_type": "code",
   "execution_count": null,
   "metadata": {
    "id": "4vrejTDNILBS"
   },
   "outputs": [],
   "source": [
    "#### Your code"
   ]
  },
  {
   "cell_type": "markdown",
   "metadata": {
    "id": "GkQ99VH7A7Ue"
   },
   "source": [
    "#### 1.2.3\n",
    "Usar los operadores de indexado y slicing para imrprimir la submatriz contenida desde el elemento [1,1] al elemento [3,3] incluido ese último"
   ]
  },
  {
   "cell_type": "code",
   "execution_count": null,
   "metadata": {
    "id": "vXoTpIbo4rgY"
   },
   "outputs": [],
   "source": [
    "#### Your code"
   ]
  },
  {
   "cell_type": "markdown",
   "metadata": {
    "id": "Qe90TZN8NmLG"
   },
   "source": [
    "#### 1.2.4\n",
    "Agregar un fila a nuestra matriz utilizando la funcion [np.vstack](https://numpy.org/doc/stable/reference/generated/numpy.vstack.html)"
   ]
  },
  {
   "cell_type": "code",
   "execution_count": null,
   "metadata": {
    "id": "oiilw2QWASUh"
   },
   "outputs": [],
   "source": [
    "#### Your code"
   ]
  },
  {
   "cell_type": "markdown",
   "metadata": {
    "id": "iX4GbXGi6wPz"
   },
   "source": [
    "## 1.3 Listas, Tuplas y Diccionario\n"
   ]
  },
  {
   "cell_type": "markdown",
   "metadata": {
    "id": "gMKgFMBr63lr"
   },
   "source": [
    "### 1.3.1\n",
    "Verificar que las listas son mutables (se puede cambiar el valor del contenido despues de creada) y las tuplas no lo son.\n",
    "\n"
   ]
  },
  {
   "cell_type": "markdown",
   "metadata": {
    "id": "lCrW9uWT7Cel"
   },
   "source": [
    "### 1.3.2\n",
    "\n",
    "Crear un bloque de código que nos permita saber si un elemento está contenido en una tupla"
   ]
  },
  {
   "cell_type": "code",
   "execution_count": null,
   "metadata": {
    "id": "D8XfEV9k7kgA"
   },
   "outputs": [],
   "source": [
    "my_tuple = ('one','two','three','four','five','bananas')"
   ]
  }
 ],
 "metadata": {
  "colab": {
   "authorship_tag": "ABX9TyPc4r6Iq5yoWWsBR+A81nFp",
   "collapsed_sections": [],
   "include_colab_link": true,
   "name": "Practico-0 Introduccion a Python.ipynb",
   "provenance": [],
   "toc_visible": true
  },
  "kernelspec": {
   "display_name": "Python 3 (ipykernel)",
   "language": "python",
   "name": "python3"
  },
  "language_info": {
   "codemirror_mode": {
    "name": "ipython",
    "version": 3
   },
   "file_extension": ".py",
   "mimetype": "text/x-python",
   "name": "python",
   "nbconvert_exporter": "python",
   "pygments_lexer": "ipython3",
   "version": "3.8.12"
  }
 },
 "nbformat": 4,
 "nbformat_minor": 1
}
