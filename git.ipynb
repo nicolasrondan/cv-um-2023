{
 "cells": [
  {
   "cell_type": "markdown",
   "metadata": {
    "colab_type": "text",
    "id": "view-in-github"
   },
   "source": [
    "<a href=\"https://colab.research.google.com/github/nicolasrondan/cv-um-2021/blob/main/git.ipynb\" target=\"_parent\"><img src=\"https://colab.research.google.com/assets/colab-badge.svg\" alt=\"Open In Colab\"/></a>"
   ]
  },
  {
   "cell_type": "code",
   "execution_count": null,
   "metadata": {
    "colab": {
     "base_uri": "https://localhost:8080/"
    },
    "id": "wCQBqofPqFRX",
    "outputId": "35c319cc-9d22-4525-a106-ebd7fcbbbc7b"
   },
   "outputs": [],
   "source": [
    "from google.colab import drive\n",
    "drive.mount('/content/drive')"
   ]
  },
  {
   "cell_type": "code",
   "execution_count": null,
   "metadata": {
    "colab": {
     "base_uri": "https://localhost:8080/"
    },
    "id": "vecZeAZWq87T",
    "outputId": "18680130-4af6-4b59-dcf9-65ec430059c2"
   },
   "outputs": [],
   "source": [
    "%cd /content/drive/MyDrive/"
   ]
  },
  {
   "cell_type": "code",
   "execution_count": null,
   "metadata": {
    "id": "Pi7Yivkyrs1-"
   },
   "outputs": [],
   "source": [
    "import os\n",
    "os.makedirs('computer-vision-um/',exist_ok=True)"
   ]
  },
  {
   "cell_type": "code",
   "execution_count": null,
   "metadata": {
    "colab": {
     "base_uri": "https://localhost:8080/"
    },
    "id": "-qB4pAJLPZ3V",
    "outputId": "583dd9b1-fd05-4e42-f9de-f8ea00abf347"
   },
   "outputs": [],
   "source": [
    "%cd /content/drive/MyDrive/computer-vision-um/\n"
   ]
  },
  {
   "cell_type": "code",
   "execution_count": null,
   "metadata": {
    "colab": {
     "base_uri": "https://localhost:8080/"
    },
    "id": "3vWNj2JKoG2C",
    "outputId": "80ea9402-ce6f-4607-88e7-6b8cea6a281d"
   },
   "outputs": [],
   "source": [
    "!git clone https://github.com/nicolasrondan/cv-um-2023.git"
   ]
  },
  {
   "cell_type": "code",
   "execution_count": null,
   "metadata": {
    "colab": {
     "base_uri": "https://localhost:8080/"
    },
    "id": "9-Ps_iYCN_q2",
    "outputId": "5d15bad4-03b9-4416-b68a-5fde23a6b072"
   },
   "outputs": [],
   "source": [
    "%cd /content/drive/MyDrive/computer-vision-um/cv-um-2023\n"
   ]
  },
  {
   "cell_type": "code",
   "execution_count": null,
   "metadata": {
    "colab": {
     "base_uri": "https://localhost:8080/"
    },
    "id": "c9gpS9NpPcZa",
    "outputId": "101cc0c8-eba1-4cd6-c386-bc6e2484381f"
   },
   "outputs": [],
   "source": [
    "! git pull"
   ]
  },
  {
   "cell_type": "code",
   "execution_count": null,
   "metadata": {
    "id": "4mwnkFWzPgCi"
   },
   "outputs": [],
   "source": []
  }
 ],
 "metadata": {
  "colab": {
   "authorship_tag": "ABX9TyOhvjLksoYf9Z2w0WIlzQuc",
   "include_colab_link": true,
   "name": "Copy of git.ipynb",
   "provenance": []
  },
  "kernelspec": {
   "display_name": "Python 3 (ipykernel)",
   "language": "python",
   "name": "python3"
  },
  "language_info": {
   "codemirror_mode": {
    "name": "ipython",
    "version": 3
   },
   "file_extension": ".py",
   "mimetype": "text/x-python",
   "name": "python",
   "nbconvert_exporter": "python",
   "pygments_lexer": "ipython3",
   "version": "3.8.12"
  }
 },
 "nbformat": 4,
 "nbformat_minor": 1
}
