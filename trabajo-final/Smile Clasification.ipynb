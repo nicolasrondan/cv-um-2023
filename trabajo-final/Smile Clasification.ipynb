{
 "cells": [
  {
   "cell_type": "code",
   "execution_count": null,
   "id": "cf0ff1cc",
   "metadata": {},
   "outputs": [],
   "source": [
    "#@title \n",
    "from google.colab import drive\n",
    "drive.mount('/content/drive')"
   ]
  },
  {
   "cell_type": "code",
   "execution_count": null,
   "id": "f26c3002",
   "metadata": {},
   "outputs": [],
   "source": [
    "%cd /content/drive/MyDrive/computer-vision-um/cv-um-2023/trabajo-final/"
   ]
  },
  {
   "cell_type": "code",
   "execution_count": 3,
   "id": "122cb28f",
   "metadata": {},
   "outputs": [],
   "source": [
    "import numpy as np\n",
    "import cv2\n",
    "import matplotlib.pyplot as plt\n",
    "from glob import glob\n",
    "import os\n",
    "from tqdm import tqdm\n",
    "import pandas as pd"
   ]
  },
  {
   "cell_type": "code",
   "execution_count": 4,
   "id": "131bcde8",
   "metadata": {},
   "outputs": [],
   "source": [
    "train_df = pd.read_pickle('training_labels.pkl')\n",
    "validation_df = pd.read_pickle('validation_labels.pkl')"
   ]
  },
  {
   "cell_type": "code",
   "execution_count": null,
   "id": "b624c9b3",
   "metadata": {},
   "outputs": [],
   "source": [
    "validation_bboxes = pd.read_pickle('face_detection/validation/validation_bbox.pickle')"
   ]
  },
  {
   "cell_type": "code",
   "execution_count": null,
   "id": "7a3fb03e",
   "metadata": {},
   "outputs": [],
   "source": [
    "folder = 'face_detection/validation_cropped/'\n",
    "#Create folder 'face_detection/validation_cropped/'\n",
    "#if not os.path.exists(folder):\n",
    "#    os.makedirs(folder)\n",
    "\n",
    "for idx, row in validation_bboxes.iterrows():\n",
    "    patch_image_number = 0\n",
    "    image_name = row['image_id']\n",
    "    #original_image_file = os.path.join(original_images_folder,original_image_name)\n",
    "    image_file = os.path.join('face_detection','validation',image_name)\n",
    "    image = cv2.imread(image_file)\n",
    "    height,width,_ = image.shape\n",
    "    if image is not None:\n",
    "        image_gray = cv2.cvtColor(image,cv2.COLOR_BGR2GRAY)\n",
    "        x_left = int(row['x_left']*width) if row['x_left'] > 0 else 0\n",
    "        y_top = int(row['y_top']*height) if row['y_top'] > 0 else 0\n",
    "        width = int(row['width']*width)\n",
    "        height = int(row['height']*height)\n",
    "        \n",
    "        face_image = image_gray[y_top:y_top+height,x_left:x_left+width]\n",
    "        face_image = cv2.resize(face_image,(256,256),cv2.INTER_AREA)\n",
    "        output_image_file = os.path.join(folder,image_name)\n",
    "        cv2.imwrite(output_image_file,face_image)"
   ]
  },
  {
   "cell_type": "code",
   "execution_count": null,
   "id": "9fc87938",
   "metadata": {},
   "outputs": [],
   "source": []
  }
 ],
 "metadata": {
  "kernelspec": {
   "display_name": "Python 3 (ipykernel)",
   "language": "python",
   "name": "python3"
  },
  "language_info": {
   "codemirror_mode": {
    "name": "ipython",
    "version": 3
   },
   "file_extension": ".py",
   "mimetype": "text/x-python",
   "name": "python",
   "nbconvert_exporter": "python",
   "pygments_lexer": "ipython3",
   "version": "3.8.12"
  }
 },
 "nbformat": 4,
 "nbformat_minor": 5
}
