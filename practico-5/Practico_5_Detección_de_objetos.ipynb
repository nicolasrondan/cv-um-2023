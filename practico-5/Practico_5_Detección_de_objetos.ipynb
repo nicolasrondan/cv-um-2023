{
  "nbformat": 4,
  "nbformat_minor": 0,
  "metadata": {
    "colab": {
      "provenance": [],
      "toc_visible": true
    },
    "kernelspec": {
      "name": "python3",
      "display_name": "Python 3"
    }
  },
  "cells": [
    {
      "cell_type": "markdown",
      "metadata": {
        "id": "view-in-github"
      },
      "source": [
        "<a href=\"https://colab.research.google.com/github/nicolasrondan/cv-um-2023/blob/main/practico-5/Practico_5_Detecci%C3%B3n_de_objetos.ipynb\" target=\"_parent\"><img src=\"https://colab.research.google.com/assets/colab-badge.svg\" alt=\"Open In Colab\"/></a>"
      ]
    },
    {
      "cell_type": "markdown",
      "metadata": {
        "id": "xLiVqbF7WfPA"
      },
      "source": [
        "#INSTALACION (SOLO EJECUTAR EN GOOGLE COLAB) \n",
        "***Importante*** *: El codigo de instalción hace que el entorno se reinicie, luego de reiniciar volver a correr todas las celdas (Incluso montar Google drive) para que los paquetes necesarios queden instalado correctamente.*"
      ]
    },
    {
      "cell_type": "code",
      "metadata": {
        "id": "qo4HNMmqWslR"
      },
      "source": [
        "#@title Installing condacolab (ONLY GOOGLE COLAB)\n",
        "!pip install -q condacolab"
      ],
      "execution_count": null,
      "outputs": []
    },
    {
      "cell_type": "code",
      "metadata": {
        "id": "u38iuZm9WyLa"
      },
      "source": [
        "#@title install conda\n",
        "import condacolab\n",
        "condacolab.install()"
      ],
      "execution_count": null,
      "outputs": []
    },
    {
      "cell_type": "code",
      "metadata": {
        "id": "t4_WDQPFW0ba"
      },
      "source": [
        "#@title check conda\n",
        "import condacolab\n",
        "condacolab.check()"
      ],
      "execution_count": null,
      "outputs": []
    },
    {
      "cell_type": "code",
      "metadata": {
        "id": "VbAJfuUYayso"
      },
      "source": [
        "#@title install cyvlfeat\n",
        "!conda install -c conda-forge cyvlfeat -y"
      ],
      "execution_count": null,
      "outputs": []
    },
    {
      "cell_type": "code",
      "metadata": {
        "id": "Oz2alHCdXI5t"
      },
      "source": [
        "!pip install imutils"
      ],
      "execution_count": null,
      "outputs": []
    },
    {
      "cell_type": "markdown",
      "metadata": {
        "id": "1Iig0z_YKbbG"
      },
      "source": [
        "# Introducción\n",
        "\n",
        "En este práctico vamos a explorar la detección de objetos basada en sliding window. Para ello vamos a implementar una versión simplificada del detector propuesto en el articulo ’[Histograms of oriented gradients for human detection](https://hal.inria.fr/inria-00548512/document)’ de Dalal & Triggs. Este uno de los articulos más citados en el campo de computer vision. El articulo describe un algoritmo para poder detectar personas caminando (\"*pedestrians*\") utilizando una estrategia de sliding window y features basados en histogramas de gradientes.\n",
        "\n",
        "\n",
        "En este práctico vamos a implementar la función `sliding_window` que nos permite aplicar el algoritmo \"*sliding window*\" y detectar objetos en la misma."
      ]
    },
    {
      "cell_type": "markdown",
      "source": [
        "## Datos de Entrenamiento\n",
        "Para poder realizar el práctico es necesario descargar los archivos de entrenamiento para ello vamos a ejecutar el siguiente código:"
      ],
      "metadata": {
        "id": "5nVl9cTsKq6j"
      }
    },
    {
      "cell_type": "code",
      "source": [
        "import gdown"
      ],
      "metadata": {
        "id": "4PvfZ8ZvKuf8"
      },
      "execution_count": null,
      "outputs": []
    },
    {
      "cell_type": "code",
      "source": [
        "# Downoald data file to '/content/sample_data/data.zip' change this if not running in colab\n",
        "file_id = '1ZifijFe_kWdYfI0d5kn9iHiJI97Enfth'\n",
        "src_url = f\"https://drive.google.com/uc?export=download&confirm=pbef&id={file_id}\"\n",
        "output_file = '/content/sample_data/data.zip'\n",
        "gdown.download(src_url, output_file, quiet=False,use_cookies=False)"
      ],
      "metadata": {
        "id": "GbqzytP2Kw5I"
      },
      "execution_count": null,
      "outputs": []
    },
    {
      "cell_type": "code",
      "source": [
        "# uncompressing data file to '/content/sample_data/data' change this if not running in colab\n",
        "import shutil\n",
        "output_folder = '/content/sample_data/'\n",
        "shutil.unpack_archive(output_file, output_folder)"
      ],
      "metadata": {
        "id": "rKB8fkYCK1qt"
      },
      "execution_count": null,
      "outputs": []
    },
    {
      "cell_type": "markdown",
      "source": [
        "### Set working folder"
      ],
      "metadata": {
        "id": "u67OYagoK7tM"
      }
    },
    {
      "cell_type": "code",
      "source": [
        "%cd /content/sample_data/"
      ],
      "metadata": {
        "id": "JwpkW1ZHK3mT"
      },
      "execution_count": null,
      "outputs": []
    },
    {
      "cell_type": "markdown",
      "metadata": {
        "id": "2PUY-OLMRQYq"
      },
      "source": [
        "# Sliding Window \n",
        "\n",
        "Como vimos en el teórico el algoritmo *sliding window* para detección de objetos consiste de 4 partes:\n",
        "\n",
        "1. Extraer todas las posiciones donde puede haber un objeto a detectar.  (Sliding Window)\n",
        "2. Representar los parches de la imagen para poder clasificarlos. (HoG Features)\n",
        "3. Clasificar cada uno de los parches. (SVM)\n",
        "4. Resolver la ubicación exacta de una detección. (Non Max Suppresion)\n",
        "\n",
        "En este práctico vamos a utilizar este flujo para hacer detección de objetos.\n",
        "\n",
        "\\**Durante todo el práctico vamos a trabajar con un tamaño de ventana de 300x100 pixeles*"
      ]
    },
    {
      "cell_type": "markdown",
      "metadata": {
        "id": "5F6MtwtQLf5W"
      },
      "source": [
        "# Parte 1: Entrenar un SVM\n",
        "\n",
        "La primera parte de este ejercicio consiste en entrenar un SVM para poder clasificar si una imagen corresponde a una persona caminando o no. Para entrenar el clasificador se provee la carpeta `./trainSVM`. Esta carpeta contiene ejemplos positivos y negativos de imágenes de personas Los archivos `matfile/pos_train_names.mat` y `matfile/neg_train_mat.mat` proveen los nombres de archivo para cargar las imágenes de entrenamiento. Las funciones `negative_data` y `positive_data` que están incluidas en este práctico nos permiten cargar los datos de entrenamiento extrayendo features HoG y generando las etiquetas correspondientes.\n",
        "\n",
        "Para entrenar un SVM en esta sección vamos utilizar el clasificador [SVC](https://scikit-learn.org/stable/modules/generated/sklearn.svm.SVC.html#sklearn.svm.SVC.decision_function) de sklearn que esta basado en [libSVM](https://www.csie.ntu.edu.tw/~cjlin/libsvm/)\n",
        "\n",
        "Para extraer los features hog vamos a utilizar la función `hog` de vlfeat pueden consultar la documentación de la función ejecutando el siguiente código luego de importar la misma.\n",
        "\n",
        "\n",
        "\n",
        "```\n",
        "help(hog)\n",
        "```\n",
        "\n"
      ]
    },
    {
      "cell_type": "markdown",
      "metadata": {
        "id": "2WxKcorzD-is"
      },
      "source": [
        "## SVM Lineal\n",
        "Para poder entrenar un SVM lineal con SVC podemos utilizar el siguiente código:\n",
        "\n",
        "\n",
        "\n",
        "```\n",
        "classifier = SVC(kernel='linear', C=0.05 , random_state=0)\n",
        "classifier.fit(X, y)\n",
        "classifier.predict(X_test)\n",
        "classifier.decision_function(X_test)\n",
        "\n",
        "```\n",
        "\n",
        "El cual entrena un clasificador svm linela con un parámetro de regularización C=0.05. Las funciones ´predict´ y ´decision_function´ nos permiten hacer una predicción y saber el score del SVM en cada dato de entranda.\n"
      ]
    },
    {
      "cell_type": "markdown",
      "metadata": {
        "id": "PQLW-l49Ey6p"
      },
      "source": [
        "## Kernel SVM\n",
        "\n",
        "Para entrenar un SVM con kernel RBF tal como vimos en el teórico del curso se puede utilizar el siguiente código:\n",
        "\n",
        "```\n",
        "classifier = SVC(kernel='rbf', C=0.05 , random_state=0)\n",
        "classifier.fit(X, y)\n",
        "classifier.predict(X_test)\n",
        "classifier.decision_function(X_test)\n",
        "\n",
        "```\n",
        "\n",
        "Para entrenar un SVM con kernel va a ser necesario utilizar un parametro de regularización distinto al SVM lineal\n",
        "\n"
      ]
    },
    {
      "cell_type": "markdown",
      "metadata": {
        "id": "m3MpDVT_GEtH"
      },
      "source": [
        "## Parte 1: Código"
      ]
    },
    {
      "cell_type": "markdown",
      "metadata": {
        "id": "yPNMz8_QUGjR"
      },
      "source": [
        "### Imports "
      ]
    },
    {
      "cell_type": "code",
      "metadata": {
        "id": "cMWYG1Ykfcw6"
      },
      "source": [
        "import os\n",
        "import cv2\n",
        "import numpy as np\n",
        "from sklearn.svm import SVC\n",
        "from scipy.io import loadmat\n",
        "from cyvlfeat.hog import hog\n",
        "from tqdm import tqdm\n",
        "import matplotlib.pyplot as plt\n",
        "import matplotlib as mpl\n",
        "import math\n",
        "from imutils.object_detection import non_max_suppression\n",
        "from typing import Tuple, List, Optional"
      ],
      "execution_count": null,
      "outputs": []
    },
    {
      "cell_type": "code",
      "metadata": {
        "id": "LCmZZOkCOxdK"
      },
      "source": [
        "mpl.rc('axes.spines',top=False,bottom=False,left=False,right=False);\n",
        "mpl.rc('axes',facecolor=(1,1,1,0),edgecolor=(1,1,1,0));\n",
        "mpl.rc(('xtick','ytick'),color=(1,1,1,0));\n",
        "#mpl.rc('figure', figsize=(20,10))"
      ],
      "execution_count": null,
      "outputs": []
    },
    {
      "cell_type": "markdown",
      "metadata": {
        "id": "mrH1JUFrULRd"
      },
      "source": [
        "### Funciones Auxiliares "
      ]
    },
    {
      "cell_type": "code",
      "metadata": {
        "id": "8jFNkZBUeb6t"
      },
      "source": [
        "def load_images(images_dir:str,image_names:List[str],image_size=(100,300))-> List[np.ndarray]:\n",
        "    \"\"\" Given a data folder and a list of images loads images and hog representation with the selected\n",
        "    categories. Images should be oganized under folders with the category name\n",
        "\n",
        "    Args:\n",
        "        images_dir: Path of folder containing images to load\n",
        "        image_names: List containing image names of images to load\n",
        "        image_size: Desired image size in which to resize selected images\n",
        "    Returns:\n",
        "        images: List containing the loaded images\n",
        "    \"\"\"\n",
        "    number_of_samples = len(image_names)\n",
        "    images = []\n",
        "\n",
        "    for idx, image_name in tqdm(enumerate(image_names), total=number_of_samples):\n",
        "\n",
        "      image_path = os.path.join(images_dir,image_name)\n",
        "      image = cv2.imread(image_path)\n",
        "      image_rgb = cv2.cvtColor(image,cv2.COLOR_BGR2RGB)\n",
        "      image_resized = cv2.resize(image_rgb,image_size)\n",
        "      images.append(image_resized)\n",
        "    \n",
        "    return images"
      ],
      "execution_count": null,
      "outputs": []
    },
    {
      "cell_type": "code",
      "metadata": {
        "id": "eBMruP7Rez2P"
      },
      "source": [
        "def extract_hog_features(image:np.ndarray,cell_size=32) -> np.ndarray:\n",
        "    \"\"\" Given an image extracts the hog representation for the selected cell\n",
        "    size and returns a 1D vector with the representation\n",
        "\n",
        "    Args:\n",
        "        image: image to extract features from\n",
        "        cell_size: cell size of the HoG representation\n",
        "\n",
        "    Returns:\n",
        "        Returns 1D vector with image HoG representation\n",
        "    \"\"\"\n",
        "    image_gray = cv2.cvtColor(image,cv2.COLOR_RGB2GRAY)\n",
        "    hog_representation = hog(image_gray, cell_size)\n",
        "    feature_vector = hog_representation.flatten()\n",
        "    return feature_vector"
      ],
      "execution_count": null,
      "outputs": []
    },
    {
      "cell_type": "code",
      "source": [
        "def generate_hog_visualization(image:np.ndarray, cell_size=32):\n",
        "    \"\"\" Given an image generate the hog visualization for the \n",
        "    selected cell size\n",
        "\n",
        "    Args:\n",
        "        image: image to extract features from\n",
        "        cell_size: cell size of the HoG representation\n",
        "    Returns:\n",
        "        Returns image with HoG visualization\n",
        "    \"\"\"\n",
        "    gray_image = cv2.cvtColor(image,cv2.COLOR_RGB2GRAY)\n",
        "    _,hog_vis = hog(gray_image, cell_size, visualize=True)\n",
        "    return hog_vis    "
      ],
      "metadata": {
        "id": "nFFH4FfBh74a"
      },
      "execution_count": null,
      "outputs": []
    },
    {
      "cell_type": "markdown",
      "metadata": {
        "id": "1uJiTzWZPDma"
      },
      "source": [
        "### Cargar Datos de Entrenamiento"
      ]
    },
    {
      "cell_type": "code",
      "metadata": {
        "id": "HpbF1FuTi-Gm"
      },
      "source": [
        "pos_train_names = loadmat('matfile/pos_train_names.mat')\n",
        "neg_train_names = loadmat('matfile/neg_train_names.mat')\n",
        "pos_train_names = pos_train_names['pos_train_names']\n",
        "neg_train_names = neg_train_names['neg_train_names']"
      ],
      "execution_count": null,
      "outputs": []
    },
    {
      "cell_type": "code",
      "source": [
        "neg_train_names = [name.strip() for name in neg_train_names]\n",
        "pos_train_names = [name.strip() for name in pos_train_names]"
      ],
      "metadata": {
        "id": "tu8fUrN4h-nz"
      },
      "execution_count": null,
      "outputs": []
    },
    {
      "cell_type": "code",
      "source": [
        "data_folder = './train_data'"
      ],
      "metadata": {
        "id": "-bOrECQkiLZc"
      },
      "execution_count": null,
      "outputs": []
    },
    {
      "cell_type": "code",
      "source": [
        "positive_images_dir = os.path.join(data_folder,'pedestrian')\n",
        "negative_images_dir = os.path.join(data_folder,'no_pedestrians')"
      ],
      "metadata": {
        "id": "6qKuVyTbiNWO"
      },
      "execution_count": null,
      "outputs": []
    },
    {
      "cell_type": "markdown",
      "source": [
        "##### Cargar Imagenes Positivas"
      ],
      "metadata": {
        "id": "YEa5wT6oiPxj"
      }
    },
    {
      "cell_type": "code",
      "source": [
        "positive_images = load_images(positive_images_dir,pos_train_names)\n",
        "positive_labels = np.ones([len(positive_images),1])"
      ],
      "metadata": {
        "id": "bpzSth5-iSjL"
      },
      "execution_count": null,
      "outputs": []
    },
    {
      "cell_type": "markdown",
      "source": [
        "##### Cargar Imagenes Negativas"
      ],
      "metadata": {
        "id": "E2i8RJfDiS9x"
      }
    },
    {
      "cell_type": "code",
      "source": [
        "negative_images = load_images(negative_images_dir,neg_train_names)\n",
        "negative_labels = np.zeros([len(negative_images),1])"
      ],
      "metadata": {
        "id": "sTXgtbMoiWam"
      },
      "execution_count": null,
      "outputs": []
    },
    {
      "cell_type": "markdown",
      "source": [
        "##### Crear Matrices de Features HoG"
      ],
      "metadata": {
        "id": "dIFlSuUVibk6"
      }
    },
    {
      "cell_type": "code",
      "source": [
        "positive_feature_list = [extract_hog_features(image) for image in tqdm(positive_images)]"
      ],
      "metadata": {
        "id": "6i_ssyaxidB-"
      },
      "execution_count": null,
      "outputs": []
    },
    {
      "cell_type": "code",
      "source": [
        "positive_feature_matrix = np.array(positive_feature_list)\n",
        "print(positive_feature_matrix.shape)"
      ],
      "metadata": {
        "id": "CO2IqzgTie0P"
      },
      "execution_count": null,
      "outputs": []
    },
    {
      "cell_type": "code",
      "source": [
        "negative_feature_list = [extract_hog_features(image) for image in tqdm(negative_images)]"
      ],
      "metadata": {
        "id": "wapTOO4EigbR"
      },
      "execution_count": null,
      "outputs": []
    },
    {
      "cell_type": "code",
      "source": [
        "negative_feature_matrix = np.array(negative_feature_list)\n",
        "print(negative_feature_matrix.shape)"
      ],
      "metadata": {
        "id": "4RZG3axiiiJD"
      },
      "execution_count": null,
      "outputs": []
    },
    {
      "cell_type": "markdown",
      "metadata": {
        "id": "4B3SP5zLPH3D"
      },
      "source": [
        "### Visualización de ejemplos\n",
        "Vamos a visualizar algunos ejemplos de features HoG para imagenes de personas (*ejemplos positivos*) y para imagens de no personas (*ejemplos negativos*)"
      ]
    },
    {
      "cell_type": "code",
      "source": [
        "from random import sample"
      ],
      "metadata": {
        "id": "SCtd-UPIipXk"
      },
      "execution_count": null,
      "outputs": []
    },
    {
      "cell_type": "markdown",
      "source": [
        "#### Visualización de ejemplos positivos"
      ],
      "metadata": {
        "id": "TlQOcKsjipz1"
      }
    },
    {
      "cell_type": "code",
      "metadata": {
        "id": "aOYlbMjdVJov"
      },
      "source": [
        "fig, axes = plt.subplots(2,3,figsize=(12,12))\n",
        "positive_sample = sample(positive_images,3)\n",
        "\n",
        "for idx, image in enumerate(positive_sample):\n",
        "  hog_visulization = generate_hog_visualization(image)\n",
        "  axes[0,idx].imshow(image)\n",
        "  axes[1,idx].imshow(hog_visulization)"
      ],
      "execution_count": null,
      "outputs": []
    },
    {
      "cell_type": "markdown",
      "metadata": {
        "id": "TNbLrNGtPM0p"
      },
      "source": [
        "#### Visualización de ejemplos negativos"
      ]
    },
    {
      "cell_type": "code",
      "metadata": {
        "id": "CZXP42IQWuV6"
      },
      "source": [
        "fig, axes = plt.subplots(2,3,figsize=(12,12))\n",
        "negative_sample = sample(negative_images,3)\n",
        "\n",
        "for idx, image in enumerate(negative_sample):\n",
        "  hog_visulization = generate_hog_visualization(image)\n",
        "  axes[0,idx].imshow(image)\n",
        "  axes[1,idx].imshow(hog_visulization)"
      ],
      "execution_count": null,
      "outputs": []
    },
    {
      "cell_type": "markdown",
      "metadata": {
        "id": "WufQCS8cbWPI"
      },
      "source": [
        "### Entrenamiento del SVM"
      ]
    },
    {
      "cell_type": "markdown",
      "metadata": {
        "id": "ib3r20OMbaXZ"
      },
      "source": [
        "#### Split de Datos\n",
        "Antes de entrenar nuestro clasificador SVM vamos a separar nuestros datos en dos sub-sets uno para **entrenamiento** y otro para **evaluación** de los resultados de nuestro clasificador. Es importante utilizar este tipo de estrategia para poder validar que nuestro algoritmo esté generalizando correctamente y no solo funcione correctamente con los datos de entrenamiento."
      ]
    },
    {
      "cell_type": "code",
      "metadata": {
        "id": "Q5-Wtr-RHGDX"
      },
      "source": [
        "from sklearn.model_selection import train_test_split"
      ],
      "execution_count": null,
      "outputs": []
    },
    {
      "cell_type": "code",
      "metadata": {
        "id": "K-ynTdEQZ6xs"
      },
      "source": [
        "total_data = np.vstack([positive_feature_matrix, negative_feature_matrix])\n",
        "total_labels = np.vstack([positive_labels, negative_labels])"
      ],
      "execution_count": null,
      "outputs": []
    },
    {
      "cell_type": "code",
      "metadata": {
        "id": "C3TIw3ryHH-A"
      },
      "source": [
        "train_data, test_data, train_labels, test_labels = train_test_split(total_data, total_labels, test_size=0.1, random_state=50)"
      ],
      "execution_count": null,
      "outputs": []
    },
    {
      "cell_type": "markdown",
      "metadata": {
        "id": "G7U7rkZYckJK"
      },
      "source": [
        "#### Entrenar clasificador\n",
        "Vamos a utilizar nuestros datos de entrenamiento para entrenar nuestro clasificador. Este clasificador debería poder clasificar los distintos parches (ventanas) en una imagen para decidir si contienen una persona o no."
      ]
    },
    {
      "cell_type": "code",
      "metadata": {
        "id": "64r7wRJ1oUpM"
      },
      "source": [
        "classifier = SVC(kernel='linear', C=0.05, random_state=0)\n",
        "classifier.fit(train_data, train_labels)"
      ],
      "execution_count": null,
      "outputs": []
    },
    {
      "cell_type": "markdown",
      "metadata": {
        "id": "TMuWRIzTeghB"
      },
      "source": [
        "#### Evaluar Clasificador\n",
        "En esta sección vamos a Evaluar el clasificador utilizando dos metricas el accuracy y la matriz de confusion para verificar el precision y recall. Vamos a visualizar la matriz de confusion en el siguente formato:\n",
        "\n",
        "![image.png](data:image/png;base64,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)"
      ]
    },
    {
      "cell_type": "code",
      "metadata": {
        "id": "u4hFER2mHA-o"
      },
      "source": [
        "test_predictions = classifier.predict(test_data)"
      ],
      "execution_count": null,
      "outputs": []
    },
    {
      "cell_type": "code",
      "metadata": {
        "id": "PJDBJvkfa_s1"
      },
      "source": [
        "model_accuracy = np.mean(test_predictions == np.squeeze(test_labels))*100\n",
        "print('model accuracy on test data is {:.2f}%'.format(model_accuracy))"
      ],
      "execution_count": null,
      "outputs": []
    },
    {
      "cell_type": "code",
      "metadata": {
        "id": "fUwGFC6fbGhV"
      },
      "source": [
        "from sklearn.metrics import confusion_matrix\n",
        "import seaborn as sns\n",
        "from sklearn.metrics import accuracy_score"
      ],
      "execution_count": null,
      "outputs": []
    },
    {
      "cell_type": "code",
      "metadata": {
        "id": "Ia85mfBmbHxN"
      },
      "source": [
        "cf_matrix = confusion_matrix(test_labels, test_predictions, labels=[1,0])\n",
        "sns.heatmap(cf_matrix, annot=True, fmt='d', cbar=False, cmap='Blues',xticklabels=['Positive','Negative'], yticklabels=['Positive','Negative'])\n",
        "plt.show()"
      ],
      "execution_count": null,
      "outputs": []
    },
    {
      "cell_type": "markdown",
      "metadata": {
        "id": "XITgSdztGTct"
      },
      "source": [
        "# Parte 2: Sliding Window\n",
        "\n",
        "Hasta el momento hemos ejecutado código que nos permite cargar los datos de entrenamiento y entrenar un SVM. En esta sección es necesario implentar la función `sliding_window` que es la que va a aplicar el algoritmo sliding window. Esta función toma la imagen y aplica el clasificador entrenado en cada region para obtener el score asociado a cada parche de la imagen. \n",
        "\n",
        "Para obtener el score de cada parche o ventana de la imagen de puede utilzar el siguiente código:\n",
        "\n",
        "\n",
        "```\n",
        "scores = clf.decision_function(patch)\n",
        "```\n",
        "\n",
        "La función `decision_function` devuelve los scores de cada punto utilizando función de clasificación:\n",
        "\n",
        "$f(x)= w.x + b$\n"
      ]
    },
    {
      "cell_type": "code",
      "metadata": {
        "id": "35dGlyU-dZAs"
      },
      "source": [
        "def sliding_window(image:np.ndarray, window_size:Tuple[int], classifier:SVC, stride:int=1)->Tuple[np.ndarray,np.ndarray]:\n",
        "    \"\"\" Function to extract windows positions and calculate and detection score per \n",
        "    position.\n",
        "\n",
        "    Args:\n",
        "    image : Input image as loaded with openCV in grayscale .\n",
        "    window_size : Window size in format W x H used to extract windows from the \n",
        "      original image.\n",
        "    classifier : SVC classifier used to evaluate each window position on the \n",
        "      image. Must implement the method predict_proba\n",
        "    stride: stride for the sliding window.\n",
        "\n",
        "    Returns:\n",
        "    positions: All extracted boundig boxes positions\n",
        "    scores: Scores corresponding to each bounding box position\n",
        "   \n",
        "    \"\"\"\n",
        "\n",
        "    positions=[]\n",
        "    scores=[]\n",
        "    # Your code\n",
        "    return positions, scores"
      ],
      "execution_count": null,
      "outputs": []
    },
    {
      "cell_type": "markdown",
      "metadata": {
        "id": "y1_hJtyp7zOK"
      },
      "source": [
        "### Visualizar ejemplos del set de testing\n",
        "Vamos a visualizar los resultados en una de las imagenes del set de testing para detección (carpeta en la ruta `./test/`). Luego de ejecutar el siguiente código para una imagen ejecutarlo para el resto de las imágenes en la carpeta y visualizar los resultados.\n",
        "\n",
        "**La función `sliding_window` si se ejecuta con el parametro `stride=1` puede demorar algunos minutos*\n"
      ]
    },
    {
      "cell_type": "code",
      "metadata": {
        "id": "ZGXH6OFlLOtv"
      },
      "source": [
        "test_image = cv2.imread('./test/example2.png')\n",
        "test_image_gray = cv2.cvtColor(test_image, cv2.COLOR_BGR2GRAY)\n",
        "test_image = cv2.cvtColor(test_image, cv2.COLOR_BGR2RGB)"
      ],
      "execution_count": null,
      "outputs": []
    },
    {
      "cell_type": "code",
      "metadata": {
        "id": "Pmk_rzj5M6IW"
      },
      "source": [
        "locations, scores = sliding_window(test_image_gray, [100,300], clf, stride=10)"
      ],
      "execution_count": null,
      "outputs": []
    },
    {
      "cell_type": "markdown",
      "metadata": {
        "id": "mbwBCsDu7_mH"
      },
      "source": [
        "#### Visualizar el histograma de scores en una imagen\n",
        "Podemos visualizar el histograma de valores de los parches para poder filtrar aquellos parches que consideramos tienen valores muy positivos (ej. mayores a 1) y así seleccionar aquellos candidatos que sea más probable que contengan una persona."
      ]
    },
    {
      "cell_type": "code",
      "metadata": {
        "id": "SPN-ZQxFGDms"
      },
      "source": [
        "hist = np.histogram(scores,bins=20)"
      ],
      "execution_count": null,
      "outputs": []
    },
    {
      "cell_type": "code",
      "metadata": {
        "id": "tdM_1U9yG8VO"
      },
      "source": [
        "mpl.rc('axes.spines',top=True,bottom=True,left=True,right=True);\n",
        "mpl.rc('axes',facecolor=(1,1,1,0),edgecolor=(0,0,0,1));\n",
        "mpl.rc(('xtick','ytick'),color=(0,0,0,1));"
      ],
      "execution_count": null,
      "outputs": []
    },
    {
      "cell_type": "code",
      "metadata": {
        "id": "tC1jk5_KOYy3"
      },
      "source": [
        "plt.hist(scores, bins=20)\n",
        "plt.axis('on')\n",
        "plt.show()"
      ],
      "execution_count": null,
      "outputs": []
    },
    {
      "cell_type": "markdown",
      "metadata": {
        "id": "xMrvSuK6tVv0"
      },
      "source": [
        "Para esta sección vamos a seleccionar el umbral de clasificación en 0.5"
      ]
    },
    {
      "cell_type": "code",
      "metadata": {
        "id": "pWyVlKKo_Uan"
      },
      "source": [
        "positive_boxes = locations[scores > 0.5]\n",
        "print(f'Number of positive boxes: {positive_boxes.shape[0]}')"
      ],
      "execution_count": null,
      "outputs": []
    },
    {
      "cell_type": "markdown",
      "metadata": {
        "id": "zs3p8S758Hn4"
      },
      "source": [
        "### Visualización de resultados finales\n"
      ]
    },
    {
      "cell_type": "code",
      "metadata": {
        "id": "JKH4_6kBOenu"
      },
      "source": [
        "## Hacemos el merge de las regiones ##\n",
        "boxes = non_max_suppression(positive_boxes,probs=None, overlapThresh=0.4)\n",
        "print(f'Number of positive boxes after NMS: {boxes.shape[0]}')"
      ],
      "execution_count": null,
      "outputs": []
    },
    {
      "cell_type": "code",
      "metadata": {
        "id": "twPZMUoOHy2j"
      },
      "source": [
        "def draw_boxes(image, boxes):\n",
        "    out_image = image.copy()\n",
        "    plt.figure(figsize=(10,20))\n",
        "    for box in boxes:\n",
        "      out_image = cv2.rectangle(out_image,(box[1],box[0]),(box[3],box[2]),color=(255,0,0))\n",
        "    \n",
        "    plt.imshow(out_image)\n",
        "    plt.show()\n"
      ],
      "execution_count": null,
      "outputs": []
    },
    {
      "cell_type": "code",
      "metadata": {
        "id": "ElJ_AyfVMcpn"
      },
      "source": [
        "draw_boxes(test_image,boxes)"
      ],
      "execution_count": null,
      "outputs": []
    },
    {
      "cell_type": "markdown",
      "metadata": {
        "id": "cn82GVK7MgEu"
      },
      "source": [
        "# Mejoras\n",
        "Hastas el momento implementamos un detector de objetos (personas) que es lento y comete varios errores. Vamos a intentar implementar las siguientes mejoras:\n",
        "\n",
        "\n",
        "1. Modificar los parametros del extractor de features hog y el clasificador SVM para obtener mejores resultados finales en la detección. También se pueden descargar más imagenes.\n",
        "\n",
        "2. Hasta ahora estamos seleccionando un umbral fijo para decidir cuales son detecciones positivas y negativas. Podemos construir la curva de precision y recall variando nuestro umbral desde [-1,1]. Construir esta curva y graficarla y compararla con la curva del reesultado anterior.\n"
      ]
    },
    {
      "cell_type": "code",
      "source": [
        "def plot_precision_recall(test_scores:np.ndarray, test_labels:np.ndarray):\n",
        "    \"\"\" Function to plot precision vs recall curve\n",
        "\n",
        "    Args:\n",
        "    test_scores : predicted scores for the selected data .\n",
        "    test_labels : ground truth scores of the selected data\n",
        "\n",
        "    Returns:\n",
        "    No return values, plots precision and recall for the selected predicted and\n",
        "    ground thruth data.\n",
        "    \"\"\"\n",
        "    \n",
        "    test_labels = np.squeeze(test_labels)\n",
        "    total_positives = np.sum(test_labels == 1)\n",
        "    total_negatives = np.sum(test_labels == 0)\n",
        "    precisions = []\n",
        "    recalls = []\n",
        "\n",
        "    for threshold in np.arange(-1,1,0.01):\n",
        "      #predictions = np.zeros(test_scores.shape)\n",
        "      predictions = test_scores > threshold\n",
        "      predicted_positives = np.sum(predictions)\n",
        "      true_positives = np.sum(np.bitwise_and((predictions == 1), (test_labels==1)))\n",
        "      true_negatives = np.sum(np.bitwise_and((predictions == 0), (test_labels==0)))\n",
        "\n",
        "      precision = true_positives / predicted_positives\n",
        "      recall = true_positives/ total_positives\n",
        "      precisions.append(precision)\n",
        "      recalls.append(recall)\n",
        "    \n",
        "  \n",
        "    plt.plot(recalls,precisions,'b-')\n",
        "    plt.xlabel('recall')\n",
        "    plt.ylabel('precision')\n",
        "    plt.show()"
      ],
      "metadata": {
        "id": "XlSUczDgjf5S"
      },
      "execution_count": null,
      "outputs": []
    }
  ]
}